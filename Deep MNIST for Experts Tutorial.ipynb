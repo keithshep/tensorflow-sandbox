{
 "cells": [
  {
   "cell_type": "code",
   "execution_count": 1,
   "metadata": {
    "collapsed": false
   },
   "outputs": [],
   "source": [
    "%matplotlib inline\n",
    "from __future__ import absolute_import, division, print_function\n",
    "\n",
    "import matplotlib.pyplot as plt\n",
    "import matplotlib.image as mpimg\n",
    "import numpy as np\n",
    "import tensorflow as tf\n",
    "import tensorflow.examples.tutorials.mnist.input_data as input_data\n",
    "import time\n",
    "#from IPython.display import display"
   ]
  },
  {
   "cell_type": "markdown",
   "metadata": {},
   "source": [
    "## Part1: basically do a repeat of the beginner tutorial"
   ]
  },
  {
   "cell_type": "code",
   "execution_count": 2,
   "metadata": {
    "collapsed": false
   },
   "outputs": [
    {
     "name": "stdout",
     "output_type": "stream",
     "text": [
      "Extracting MNIST_data/train-images-idx3-ubyte.gz\n",
      "Extracting MNIST_data/train-labels-idx1-ubyte.gz\n",
      "Extracting MNIST_data/t10k-images-idx3-ubyte.gz\n",
      "Extracting MNIST_data/t10k-labels-idx1-ubyte.gz\n"
     ]
    }
   ],
   "source": [
    "mnist = input_data.read_data_sets('MNIST_data', one_hot=True)"
   ]
  },
  {
   "cell_type": "code",
   "execution_count": 3,
   "metadata": {
    "collapsed": false
   },
   "outputs": [
    {
     "name": "stdout",
     "output_type": "stream",
     "text": [
      "training set size =  55000\n",
      "test set size =  10000\n",
      "validation set size =  5000\n",
      "image pixels =  784\n",
      "width/height =  28\n",
      "label count =  10\n",
      "(55000, 784)\n",
      "(55000, 10)\n"
     ]
    }
   ],
   "source": [
    "# in the training set we have 55,000 examples, 784 pixels (28x28)\n",
    "# and 10 kinds of labels (0 through 9) using \"one-hot\" encoding\n",
    "train_count, px_count = mnist.train.images.shape\n",
    "_, label_count = mnist.train.labels.shape\n",
    "test_count, _ = mnist.test.images.shape\n",
    "validation_count, _ = mnist.validation.images.shape\n",
    "img_width_height = np.int32(np.sqrt(px_count))\n",
    "\n",
    "print('training set size = ', train_count)\n",
    "print('test set size = ', test_count)\n",
    "print('validation set size = ', validation_count)\n",
    "print('image pixels = ', px_count)\n",
    "print('width/height = ', img_width_height)\n",
    "print('label count = ', label_count)\n",
    "print(mnist.train.images.shape)\n",
    "print(mnist.train.labels.shape)"
   ]
  },
  {
   "cell_type": "code",
   "execution_count": 4,
   "metadata": {
    "collapsed": false
   },
   "outputs": [
    {
     "name": "stdout",
     "output_type": "stream",
     "text": [
      "the label is 4\n"
     ]
    },
    {
     "data": {
      "text/plain": [
       "<matplotlib.image.AxesImage at 0x7f2d5b22e250>"
      ]
     },
     "execution_count": 4,
     "metadata": {},
     "output_type": "execute_result"
    },
    {
     "data": {
      "image/png": "[encoded data removed]",
      "text/plain": [
       "<matplotlib.figure.Figure at 0x7f2d880a0490>"
      ]
     },
     "metadata": {},
     "output_type": "display_data"
    }
   ],
   "source": [
    "# let's look at an example\n",
    "which_sample = 33\n",
    "label = mnist.train.labels[which_sample, :].nonzero()[0][0]\n",
    "print('the label is', label)\n",
    "plt.imshow(np.reshape(\n",
    "    mnist.train.images[which_sample, :],\n",
    "    (img_width_height, img_width_height)))"
   ]
  },
  {
   "cell_type": "code",
   "execution_count": 5,
   "metadata": {
    "collapsed": false
   },
   "outputs": [],
   "source": [
    "sess = tf.InteractiveSession()\n",
    "\n",
    "# we need placeholders for the images and for the image labels\n",
    "x = tf.placeholder(\"float\", shape=[None, px_count])\n",
    "y_ = tf.placeholder(\"float\", shape=[None, label_count])\n",
    "\n",
    "# we need variables for the weights and biases\n",
    "W = tf.Variable(tf.zeros([px_count, label_count]))\n",
    "b = tf.Variable(tf.zeros([label_count]))\n",
    "\n",
    "sess.run(tf.initialize_all_variables())"
   ]
  },
  {
   "cell_type": "code",
   "execution_count": 6,
   "metadata": {
    "collapsed": false
   },
   "outputs": [],
   "source": [
    "# use softmax to predict y\n",
    "y = tf.nn.softmax(tf.matmul(x, W) + b)\n",
    "\n",
    "# now optimize to reduce cross entropy. we'll do 1000 iterations\n",
    "# of 50 sample batches\n",
    "cross_entropy = -tf.reduce_sum(y_*tf.log(y))\n",
    "train_step = tf.train.GradientDescentOptimizer(0.01).minimize(cross_entropy)\n",
    "for i in range(1000):\n",
    "  batch = mnist.train.next_batch(50)\n",
    "  train_step.run(feed_dict={x: batch[0], y_: batch[1]})"
   ]
  },
  {
   "cell_type": "code",
   "execution_count": 7,
   "metadata": {
    "collapsed": false
   },
   "outputs": [
    {
     "name": "stdout",
     "output_type": "stream",
     "text": [
      "0.9092\n"
     ]
    }
   ],
   "source": [
    "# let's see how we did in training the model\n",
    "correct_prediction = tf.equal(tf.argmax(y,1), tf.argmax(y_,1))\n",
    "accuracy = tf.reduce_mean(tf.cast(correct_prediction, \"float\"))\n",
    "print(accuracy.eval(feed_dict={\n",
    "            x: mnist.test.images,\n",
    "            y_: mnist.test.labels}))"
   ]
  },
  {
   "cell_type": "markdown",
   "metadata": {},
   "source": [
    "## Part 2: build a multilayer ConvNN"
   ]
  },
  {
   "cell_type": "code",
   "execution_count": 8,
   "metadata": {
    "collapsed": true
   },
   "outputs": [],
   "source": [
    "def weight_variable(shape):\n",
    "    # we will initialize our weights with some random noise\n",
    "    # for symetry breaking and to prevent 0 gradients\n",
    "    initial = tf.truncated_normal(shape, stddev=0.1)\n",
    "    return tf.Variable(initial)\n",
    "\n",
    "def bias_variable(shape):\n",
    "    # since we're using ReLU neurons we should init with a\n",
    "    # slight positive value to avoid \"dead neurons\"\n",
    "    initial = tf.constant(0.1, shape=shape)\n",
    "    return tf.Variable(initial)"
   ]
  },
  {
   "cell_type": "markdown",
   "metadata": {},
   "source": [
    "In this tutorial we will only use the \"vanilla\" values for things like stride size (one) and padding (so that input size == output size). Pooling is plain old max pooling over 2x2 blocks:"
   ]
  },
  {
   "cell_type": "code",
   "execution_count": 9,
   "metadata": {
    "collapsed": true
   },
   "outputs": [],
   "source": [
    "def conv2d(x, W):\n",
    "    return tf.nn.conv2d(x, W, strides=[1, 1, 1, 1], padding='SAME')\n",
    "\n",
    "def max_pool_2x2(x):\n",
    "    return tf.nn.max_pool(\n",
    "        x,\n",
    "        ksize=[1, 2, 2, 1],\n",
    "        strides=[1, 2, 2, 1],\n",
    "        padding='SAME',\n",
    "    )"
   ]
  },
  {
   "cell_type": "markdown",
   "metadata": {},
   "source": [
    "### first convolutional layer"
   ]
  },
  {
   "cell_type": "code",
   "execution_count": 10,
   "metadata": {
    "collapsed": false
   },
   "outputs": [],
   "source": [
    "# compute 32 features for each 5x5 patch\n",
    "W_conv1 = weight_variable([\n",
    "    5,  # 1st patch dimension\n",
    "    5,  # 2nd patch dimension\n",
    "    1,  # num of input channels\n",
    "    32, # num of output channels\n",
    "])\n",
    "\n",
    "# attach bias to each output channel\n",
    "b_conv1 = bias_variable([32])\n",
    "\n",
    "# reshape x as 28x28x1 images (where 1 is num channels)\n",
    "x_image = tf.reshape(x, [-1, img_width_height, img_width_height, 1])\n",
    "\n",
    "# perform convolution and pooling\n",
    "h_conv1 = tf.nn.relu(conv2d(x_image, W_conv1) + b_conv1)\n",
    "h_pool1 = max_pool_2x2(h_conv1)"
   ]
  },
  {
   "cell_type": "markdown",
   "metadata": {},
   "source": [
    "### second convolutional layer"
   ]
  },
  {
   "cell_type": "code",
   "execution_count": 11,
   "metadata": {
    "collapsed": true
   },
   "outputs": [],
   "source": [
    "# The second layer will have 64 features for each 5x5 patch.\n",
    "W_conv2 = weight_variable([\n",
    "    5,  # 1st patch dimension\n",
    "    5,  # 2nd patch dimension\n",
    "    32, # num input channels\n",
    "    64, # num output channels\n",
    "])\n",
    "\n",
    "# attach bias to each output channel\n",
    "b_conv2 = bias_variable([64])\n",
    "\n",
    "# perform convolution and pooling\n",
    "h_conv2 = tf.nn.relu(conv2d(h_pool1, W_conv2) + b_conv2)\n",
    "h_pool2 = max_pool_2x2(h_conv2)"
   ]
  },
  {
   "cell_type": "markdown",
   "metadata": {},
   "source": [
    "### densely connected layer"
   ]
  },
  {
   "cell_type": "code",
   "execution_count": 12,
   "metadata": {
    "collapsed": true
   },
   "outputs": [],
   "source": [
    "# image size has been reduced to 7x7. we now add a fully connected\n",
    "# layer with 1024 neurons to allow processing on the entire image\n",
    "# We reshape the tensor from the pooling layer into a batch of\n",
    "# vectors, multiply by a weight matrix, add a bias, and apply a ReLU.\n",
    "W_fc1 = weight_variable([7 * 7 * 64, 1024])\n",
    "b_fc1 = bias_variable([1024])\n",
    "\n",
    "h_pool2_flat = tf.reshape(h_pool2, [-1, 7 * 7 * 64])\n",
    "h_fc1 = tf.nn.relu(tf.matmul(h_pool2_flat, W_fc1) + b_fc1)\n",
    "\n",
    "# we'll perform dropout to reduce the risk of overfitting\n",
    "# we will need to turn this off during testing\n",
    "keep_prob = tf.placeholder(\"float\")\n",
    "h_fc1_drop = tf.nn.dropout(h_fc1, keep_prob)"
   ]
  },
  {
   "cell_type": "markdown",
   "metadata": {},
   "source": [
    "### readout layer"
   ]
  },
  {
   "cell_type": "code",
   "execution_count": 13,
   "metadata": {
    "collapsed": true
   },
   "outputs": [],
   "source": [
    "# we add a softmax layer for activation just like with\n",
    "# the basic examples\n",
    "W_fc2 = weight_variable([1024, 10])\n",
    "b_fc2 = bias_variable([10])\n",
    "\n",
    "y_conv = tf.nn.softmax(tf.matmul(h_fc1_drop, W_fc2) + b_fc2)"
   ]
  },
  {
   "cell_type": "markdown",
   "metadata": {},
   "source": [
    "### training and evaluation"
   ]
  },
  {
   "cell_type": "code",
   "execution_count": 14,
   "metadata": {
    "collapsed": false
   },
   "outputs": [
    {
     "name": "stdout",
     "output_type": "stream",
     "text": [
      "0.00 sec: step 0, training accuracy 0.119999997318\n",
      "7.61 sec: step 100, training accuracy 0.889999985695\n",
      "7.55 sec: step 200, training accuracy 0.949999988079\n",
      "7.63 sec: step 300, training accuracy 0.879999995232\n",
      "7.54 sec: step 400, training accuracy 0.949999988079\n",
      "7.54 sec: step 500, training accuracy 0.949999988079\n",
      "7.60 sec: step 600, training accuracy 0.97000002861\n",
      "7.50 sec: step 700, training accuracy 0.959999978542\n",
      "7.56 sec: step 800, training accuracy 0.920000016689\n",
      "7.59 sec: step 900, training accuracy 0.959999978542\n",
      "7.60 sec: step 1000, training accuracy 0.959999978542\n",
      "7.59 sec: step 1100, training accuracy 0.97000002861\n",
      "7.60 sec: step 1200, training accuracy 0.980000019073\n",
      "7.61 sec: step 1300, training accuracy 0.990000009537\n",
      "7.59 sec: step 1400, training accuracy 0.990000009537\n",
      "7.63 sec: step 1500, training accuracy 0.959999978542\n",
      "7.57 sec: step 1600, training accuracy 0.97000002861\n",
      "7.60 sec: step 1700, training accuracy 0.980000019073\n",
      "7.53 sec: step 1800, training accuracy 0.97000002861\n",
      "7.58 sec: step 1900, training accuracy 0.97000002861\n",
      "7.57 sec: step 2000, training accuracy 0.980000019073\n",
      "7.57 sec: step 2100, training accuracy 0.990000009537\n",
      "7.57 sec: step 2200, training accuracy 0.980000019073\n",
      "7.60 sec: step 2300, training accuracy 0.990000009537\n",
      "7.57 sec: step 2400, training accuracy 0.980000019073\n",
      "7.57 sec: step 2500, training accuracy 0.980000019073\n",
      "7.58 sec: step 2600, training accuracy 1.0\n",
      "7.55 sec: step 2700, training accuracy 0.959999978542\n",
      "7.60 sec: step 2800, training accuracy 0.990000009537\n",
      "7.52 sec: step 2900, training accuracy 0.980000019073\n",
      "7.57 sec: step 3000, training accuracy 0.949999988079\n",
      "7.58 sec: step 3100, training accuracy 0.990000009537\n",
      "7.57 sec: step 3200, training accuracy 1.0\n",
      "7.57 sec: step 3300, training accuracy 0.980000019073\n",
      "7.56 sec: step 3400, training accuracy 1.0\n",
      "7.57 sec: step 3500, training accuracy 0.990000009537\n",
      "7.57 sec: step 3600, training accuracy 0.97000002861\n",
      "7.57 sec: step 3700, training accuracy 1.0\n",
      "7.58 sec: step 3800, training accuracy 1.0\n",
      "7.62 sec: step 3900, training accuracy 1.0\n",
      "7.54 sec: step 4000, training accuracy 1.0\n",
      "7.57 sec: step 4100, training accuracy 0.990000009537\n",
      "7.57 sec: step 4200, training accuracy 0.990000009537\n",
      "7.57 sec: step 4300, training accuracy 1.0\n",
      "7.55 sec: step 4400, training accuracy 0.990000009537\n",
      "7.54 sec: step 4500, training accuracy 1.0\n",
      "7.56 sec: step 4600, training accuracy 0.990000009537\n",
      "7.56 sec: step 4700, training accuracy 1.0\n",
      "7.57 sec: step 4800, training accuracy 0.990000009537\n",
      "7.56 sec: step 4900, training accuracy 1.0\n",
      "7.60 sec: step 5000, training accuracy 0.990000009537\n",
      "7.50 sec: step 5100, training accuracy 1.0\n",
      "7.55 sec: step 5200, training accuracy 0.990000009537\n",
      "7.54 sec: step 5300, training accuracy 0.990000009537\n",
      "7.55 sec: step 5400, training accuracy 1.0\n",
      "7.55 sec: step 5500, training accuracy 1.0\n",
      "7.56 sec: step 5600, training accuracy 0.990000009537\n",
      "7.58 sec: step 5700, training accuracy 0.990000009537\n",
      "7.70 sec: step 5800, training accuracy 0.980000019073\n",
      "7.65 sec: step 5900, training accuracy 1.0\n",
      "7.67 sec: step 6000, training accuracy 1.0\n",
      "7.70 sec: step 6100, training accuracy 0.990000009537\n",
      "7.59 sec: step 6200, training accuracy 1.0\n",
      "7.65 sec: step 6300, training accuracy 0.980000019073\n",
      "7.55 sec: step 6400, training accuracy 1.0\n",
      "7.54 sec: step 6500, training accuracy 0.990000009537\n",
      "7.54 sec: step 6600, training accuracy 0.990000009537\n",
      "7.54 sec: step 6700, training accuracy 1.0\n",
      "7.55 sec: step 6800, training accuracy 1.0\n",
      "7.55 sec: step 6900, training accuracy 1.0\n",
      "7.55 sec: step 7000, training accuracy 1.0\n",
      "7.54 sec: step 7100, training accuracy 1.0\n",
      "7.58 sec: step 7200, training accuracy 1.0\n",
      "7.49 sec: step 7300, training accuracy 1.0\n",
      "7.54 sec: step 7400, training accuracy 0.990000009537\n",
      "7.54 sec: step 7500, training accuracy 1.0\n",
      "7.54 sec: step 7600, training accuracy 0.990000009537\n",
      "7.53 sec: step 7700, training accuracy 0.990000009537\n",
      "7.54 sec: step 7800, training accuracy 1.0\n",
      "7.54 sec: step 7900, training accuracy 1.0\n",
      "7.54 sec: step 8000, training accuracy 0.990000009537\n",
      "7.54 sec: step 8100, training accuracy 1.0\n",
      "7.54 sec: step 8200, training accuracy 1.0\n",
      "7.57 sec: step 8300, training accuracy 1.0\n",
      "7.49 sec: step 8400, training accuracy 1.0\n",
      "7.54 sec: step 8500, training accuracy 1.0\n",
      "7.54 sec: step 8600, training accuracy 1.0\n",
      "7.54 sec: step 8700, training accuracy 1.0\n",
      "7.54 sec: step 8800, training accuracy 0.990000009537\n",
      "7.55 sec: step 8900, training accuracy 1.0\n",
      "7.53 sec: step 9000, training accuracy 1.0\n",
      "7.54 sec: step 9100, training accuracy 0.990000009537\n",
      "7.54 sec: step 9200, training accuracy 0.990000009537\n",
      "7.55 sec: step 9300, training accuracy 1.0\n",
      "7.57 sec: step 9400, training accuracy 1.0\n",
      "7.50 sec: step 9500, training accuracy 0.990000009537\n",
      "7.54 sec: step 9600, training accuracy 1.0\n",
      "7.54 sec: step 9700, training accuracy 1.0\n",
      "7.54 sec: step 9800, training accuracy 1.0\n",
      "7.54 sec: step 9900, training accuracy 1.0\n",
      "7.54 sec: step 10000, training accuracy 1.0\n",
      "7.55 sec: step 10100, training accuracy 1.0\n",
      "7.54 sec: step 10200, training accuracy 0.990000009537\n",
      "7.54 sec: step 10300, training accuracy 1.0\n",
      "7.54 sec: step 10400, training accuracy 1.0\n",
      "7.58 sec: step 10500, training accuracy 1.0\n",
      "7.48 sec: step 10600, training accuracy 1.0\n",
      "7.53 sec: step 10700, training accuracy 1.0\n",
      "7.53 sec: step 10800, training accuracy 0.990000009537\n",
      "7.52 sec: step 10900, training accuracy 1.0\n",
      "7.53 sec: step 11000, training accuracy 1.0\n",
      "7.53 sec: step 11100, training accuracy 1.0\n",
      "7.53 sec: step 11200, training accuracy 1.0\n",
      "7.53 sec: step 11300, training accuracy 1.0\n",
      "7.53 sec: step 11400, training accuracy 1.0\n",
      "7.53 sec: step 11500, training accuracy 1.0\n",
      "7.57 sec: step 11600, training accuracy 1.0\n",
      "7.48 sec: step 11700, training accuracy 1.0\n",
      "7.53 sec: step 11800, training accuracy 1.0\n",
      "7.61 sec: step 11900, training accuracy 1.0\n",
      "7.56 sec: step 12000, training accuracy 1.0\n",
      "7.61 sec: step 12100, training accuracy 0.980000019073\n",
      "7.68 sec: step 12200, training accuracy 1.0\n",
      "7.57 sec: step 12300, training accuracy 1.0\n",
      "7.56 sec: step 12400, training accuracy 1.0\n",
      "7.57 sec: step 12500, training accuracy 1.0\n",
      "7.56 sec: step 12600, training accuracy 0.990000009537\n",
      "7.60 sec: step 12700, training accuracy 1.0\n",
      "7.55 sec: step 12800, training accuracy 1.0\n",
      "7.58 sec: step 12900, training accuracy 1.0\n",
      "7.57 sec: step 13000, training accuracy 1.0\n",
      "7.58 sec: step 13100, training accuracy 1.0\n",
      "7.60 sec: step 13200, training accuracy 0.990000009537\n",
      "7.56 sec: step 13300, training accuracy 1.0\n",
      "7.56 sec: step 13400, training accuracy 1.0\n",
      "7.57 sec: step 13500, training accuracy 1.0\n",
      "7.63 sec: step 13600, training accuracy 1.0\n",
      "7.66 sec: step 13700, training accuracy 1.0\n",
      "7.69 sec: step 13800, training accuracy 1.0\n",
      "7.61 sec: step 13900, training accuracy 0.990000009537\n",
      "7.58 sec: step 14000, training accuracy 1.0\n",
      "7.62 sec: step 14100, training accuracy 1.0\n",
      "7.64 sec: step 14200, training accuracy 1.0\n",
      "7.58 sec: step 14300, training accuracy 1.0\n",
      "7.69 sec: step 14400, training accuracy 1.0\n",
      "7.66 sec: step 14500, training accuracy 1.0\n",
      "7.57 sec: step 14600, training accuracy 1.0\n",
      "7.55 sec: step 14700, training accuracy 1.0\n",
      "7.55 sec: step 14800, training accuracy 1.0\n",
      "7.60 sec: step 14900, training accuracy 1.0\n",
      "7.51 sec: step 15000, training accuracy 1.0\n",
      "7.56 sec: step 15100, training accuracy 1.0\n",
      "7.57 sec: step 15200, training accuracy 1.0\n",
      "7.56 sec: step 15300, training accuracy 1.0\n",
      "7.55 sec: step 15400, training accuracy 1.0\n",
      "7.54 sec: step 15500, training accuracy 1.0\n",
      "7.55 sec: step 15600, training accuracy 1.0\n",
      "7.56 sec: step 15700, training accuracy 1.0\n",
      "7.56 sec: step 15800, training accuracy 1.0\n",
      "7.56 sec: step 15900, training accuracy 1.0\n",
      "7.59 sec: step 16000, training accuracy 1.0\n",
      "7.51 sec: step 16100, training accuracy 1.0\n",
      "7.55 sec: step 16200, training accuracy 1.0\n",
      "7.55 sec: step 16300, training accuracy 1.0\n",
      "7.55 sec: step 16400, training accuracy 1.0\n",
      "7.54 sec: step 16500, training accuracy 1.0\n",
      "7.56 sec: step 16600, training accuracy 1.0\n",
      "7.55 sec: step 16700, training accuracy 1.0\n",
      "7.56 sec: step 16800, training accuracy 1.0\n",
      "7.55 sec: step 16900, training accuracy 1.0\n",
      "7.57 sec: step 17000, training accuracy 1.0\n",
      "7.72 sec: step 17100, training accuracy 1.0\n",
      "7.53 sec: step 17200, training accuracy 1.0\n",
      "7.60 sec: step 17300, training accuracy 1.0\n",
      "7.59 sec: step 17400, training accuracy 1.0\n",
      "7.57 sec: step 17500, training accuracy 1.0\n",
      "7.58 sec: step 17600, training accuracy 1.0\n",
      "7.58 sec: step 17700, training accuracy 1.0\n",
      "7.64 sec: step 17800, training accuracy 1.0\n",
      "7.65 sec: step 17900, training accuracy 1.0\n",
      "7.57 sec: step 18000, training accuracy 1.0\n",
      "7.54 sec: step 18100, training accuracy 1.0\n",
      "7.59 sec: step 18200, training accuracy 1.0\n",
      "7.51 sec: step 18300, training accuracy 1.0\n",
      "7.54 sec: step 18400, training accuracy 1.0\n",
      "7.53 sec: step 18500, training accuracy 1.0\n",
      "7.65 sec: step 18600, training accuracy 1.0\n",
      "7.59 sec: step 18700, training accuracy 0.990000009537\n",
      "7.60 sec: step 18800, training accuracy 1.0\n",
      "7.60 sec: step 18900, training accuracy 1.0\n",
      "7.67 sec: step 19000, training accuracy 1.0\n",
      "7.66 sec: step 19100, training accuracy 1.0\n",
      "7.61 sec: step 19200, training accuracy 1.0\n",
      "7.58 sec: step 19300, training accuracy 1.0\n",
      "7.57 sec: step 19400, training accuracy 1.0\n",
      "7.55 sec: step 19500, training accuracy 1.0\n",
      "7.55 sec: step 19600, training accuracy 1.0\n",
      "7.55 sec: step 19700, training accuracy 1.0\n",
      "7.60 sec: step 19800, training accuracy 1.0\n",
      "7.57 sec: step 19900, training accuracy 0.990000009537\n",
      "completed 20000 iterations in 1513.86276603 sec\n"
     ]
    }
   ],
   "source": [
    "# we replace gradient descent with ADAM optimizer. The objective is\n",
    "# still to reduce cross entropy\n",
    "cross_entropy = -tf.reduce_sum(y_ * tf.log(y_conv))\n",
    "train_step = tf.train.AdamOptimizer(1e-4).minimize(cross_entropy)\n",
    "correct_prediction = tf.equal(tf.arg_max(y_conv, 1), tf.arg_max(y_, 1))\n",
    "accuracy = tf.reduce_mean(tf.cast(correct_prediction, \"float\"))\n",
    "sess.run(tf.initialize_all_variables())\n",
    "train_start_time = time.time()\n",
    "last_time = train_start_time\n",
    "\n",
    "for i in range(20000):\n",
    "    #batch = mnist.train.next_batch(50)\n",
    "    batch = mnist.train.next_batch(100)\n",
    "    if i % 100 == 0:\n",
    "        curr_time = time.time()\n",
    "        time_diff = curr_time - last_time\n",
    "        last_time = curr_time\n",
    "        \n",
    "        train_accuracy = accuracy.eval(feed_dict={\n",
    "            x: batch[0],\n",
    "            y_: batch[1],\n",
    "            keep_prob: 1.0, # turn off dropout\n",
    "        })\n",
    "        print(\"{:.2f} sec: step {}, training accuracy {}\".format(time_diff, i, train_accuracy))\n",
    "    train_step.run(feed_dict={\n",
    "        x: batch[0],\n",
    "        y_: batch[1],\n",
    "        keep_prob: 0.5, # turn on dropout\n",
    "    })\n",
    "\n",
    "print(\"completed 20000 iterations in {} sec\".format(time.time() - train_start_time))"
   ]
  },
  {
   "cell_type": "code",
   "execution_count": 15,
   "metadata": {
    "collapsed": false
   },
   "outputs": [
    {
     "name": "stdout",
     "output_type": "stream",
     "text": [
      "test accuracy: 0.991571426392\n"
     ]
    }
   ],
   "source": [
    "# apparently my GPU sucks so I can't test the whole set at once.\n",
    "# That's OK, 7000 samples should be good enough\n",
    "test_accuracy = accuracy.eval(feed_dict={\n",
    "    x: mnist.test.images[:7000],\n",
    "    y_: mnist.test.labels[:7000],\n",
    "    keep_prob: 1.0, # turn off dropout\n",
    "})\n",
    "\n",
    "# test_accuracy = accuracy.eval(feed_dict={\n",
    "#     x: mnist.test.images,\n",
    "#     y_: mnist.test.labels,\n",
    "#     keep_prob: 1.0, # turn off dropout\n",
    "# })\n",
    "\n",
    "print('test accuracy: {}'.format(test_accuracy))"
   ]
  }
 ],
 "metadata": {
  "kernelspec": {
   "display_name": "Python 2",
   "language": "python",
   "name": "python2"
  },
  "language_info": {
   "codemirror_mode": {
    "name": "ipython",
    "version": 2
   },
   "file_extension": ".py",
   "mimetype": "text/x-python",
   "name": "python",
   "nbconvert_exporter": "python",
   "pygments_lexer": "ipython2",
   "version": "2.7.8"
  }
 },
 "nbformat": 4,
 "nbformat_minor": 0
}
